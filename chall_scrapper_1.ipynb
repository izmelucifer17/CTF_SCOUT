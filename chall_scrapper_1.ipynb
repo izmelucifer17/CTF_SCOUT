{
 "cells": [
  {
   "cell_type": "code",
   "execution_count": 3,
   "metadata": {},
   "outputs": [],
   "source": [
    "from selenium import webdriver\n",
    "from selenium.webdriver.common.by import By\n",
    "from time import sleep\n",
    "import os"
   ]
  },
  {
   "cell_type": "code",
   "execution_count": 4,
   "metadata": {},
   "outputs": [],
   "source": [
    "browser = webdriver.Firefox()"
   ]
  },
  {
   "cell_type": "code",
   "execution_count": 5,
   "metadata": {},
   "outputs": [],
   "source": [
    "browser.get(\"https://picoctf.org/\")"
   ]
  },
  {
   "cell_type": "code",
   "execution_count": 6,
   "metadata": {},
   "outputs": [],
   "source": [
    "login = browser.find_element(By.XPATH,\"//li[@id='userlogin']\")"
   ]
  },
  {
   "cell_type": "code",
   "execution_count": 7,
   "metadata": {},
   "outputs": [],
   "source": [
    "login.click()\n",
    "sleep(10)"
   ]
  },
  {
   "cell_type": "code",
   "execution_count": 8,
   "metadata": {},
   "outputs": [],
   "source": [
    "username = browser.find_element(By.ID,\"username\")\n",
    "password = browser.find_element(By.ID,\"password\")\n",
    "submit = browser.find_element(By.XPATH,\"//button[@type='submit']\")"
   ]
  },
  {
   "cell_type": "code",
   "execution_count": 9,
   "metadata": {},
   "outputs": [],
   "source": [
    "username.send_keys(\"dummy_infosec\")\n",
    "password.send_keys(\"12345678\")\n",
    "submit.click()\n",
    "sleep(10)"
   ]
  },
  {
   "cell_type": "code",
   "execution_count": 10,
   "metadata": {},
   "outputs": [],
   "source": [
    "cross = browser.find_element(By.XPATH,\"/html/body/div[2]/div/div[1]/div/div/div[1]/h5/button\")\n",
    "cross.click()\n",
    "practice  = browser.find_element(By.XPATH,\"/html/body/div/div/div[4]/nav/div/div[2]/ul/li[2]\")\n",
    "practice.click()"
   ]
  },
  {
   "cell_type": "code",
   "execution_count": 11,
   "metadata": {},
   "outputs": [],
   "source": [
    "categories = []\n",
    "num_challs = []\n",
    "for i in range(2, 8):\n",
    "    xpath = f'//*[@id=\"root\"]/div/div[4]/div/div[3]/div[1]/div/div[5]/ul/li[{i}]'\n",
    "    element = browser.find_element(By.XPATH, xpath)\n",
    "    categories.append(element.text)\n",
    "    num_chall = int(element.text.split('(')[-1].strip(\")\"))\n",
    "    num_challs.append(num_chall)\n"
   ]
  },
  {
   "cell_type": "code",
   "execution_count": 12,
   "metadata": {},
   "outputs": [
    {
     "data": {
      "text/plain": [
       "[52, 57, 76, 57, 42, 46]"
      ]
     },
     "execution_count": 12,
     "metadata": {},
     "output_type": "execute_result"
    }
   ],
   "source": [
    "num_challs"
   ]
  },
  {
   "cell_type": "code",
   "execution_count": 18,
   "metadata": {},
   "outputs": [
    {
     "name": "stdout",
     "output_type": "stream",
     "text": [
      "Scraping in page 1\n",
      "Scraping in page 2\n",
      "Scraping in page 3\n",
      "Scraping in page 4\n",
      "Scraping in page 5\n",
      "Scraping in page 1\n",
      "Scraping in page 2\n",
      "Scraping in page 3\n",
      "Scraping in page 4\n",
      "Scraping in page 5\n",
      "Scraping in page 1\n",
      "Scraping in page 2\n",
      "Scraping in page 3\n",
      "Scraping in page 4\n",
      "Scraping in page 5\n",
      "Scraping in page 6\n",
      "Scraping in page 7\n",
      "Scraping in page 1\n",
      "Scraping in page 2\n",
      "Scraping in page 3\n",
      "Scraping in page 4\n",
      "Scraping in page 5\n",
      "Scraping in page 1\n",
      "Scraping in page 2\n",
      "Scraping in page 3\n",
      "Scraping in page 4\n",
      "Scraping in page 1\n",
      "Scraping in page 2\n",
      "Scraping in page 3\n",
      "Scraping in page 4\n"
     ]
    }
   ],
   "source": [
    "tot_categories = len(categories)\n",
    "\n",
    "for i in range(tot_categories):\n",
    "    xpath = f'//*[@id=\"root\"]/div/div[4]/div/div[3]/div[1]/div/div[5]/ul/li[{i+2}]'\n",
    "    category = browser.find_element(By.XPATH, xpath)\n",
    "    category.click()\n",
    "    sleep(3)\n",
    "    cat = f\"cat_{i+1}\"\n",
    "    globals()[cat] = []\n",
    "\n",
    "    pages = int(num_challs[i] / 12)+1\n",
    "    for j in range(pages):\n",
    "        \n",
    "        chall = browser.find_elements(By.XPATH, \"//div[@class='card-body']//h4\")\n",
    "        for c in chall:\n",
    "            globals()[cat].append(c.text)\n",
    "\n",
    "        if j != pages-1 :  # Skip clicking \"Next\" button on the last page\n",
    "            next_button = browser.find_element(By.XPATH, \"//a[@aria-label='Next' and @href='#' and contains(@class, 'page-link')]\")\n",
    "            next_button.click()\n",
    "            sleep(1)\n"
   ]
  },
  {
   "cell_type": "code",
   "execution_count": null,
   "metadata": {},
   "outputs": [],
   "source": [
    "for i in range(tot_categories):\n",
    "    cat = f'cat_{i+1}'\n",
    "    category_challs = globals()[cat]\n",
    "    category_ = categories[i]\n",
    "    path = f\"/home/lucifer17/Desktop/projext//ctf/{category_}\"\n",
    "    \n",
    "    # Check if the directory already exists\n",
    "    if not os.path.exists(path):\n",
    "        os.makedirs(path)\n",
    "    \n",
    "    for c in category_challs:\n",
    "        sub_path = os.path.join(path, c)\n",
    "        os.makedirs(sub_path)"
   ]
  },
  {
   "cell_type": "code",
   "execution_count": null,
   "metadata": {},
   "outputs": [],
   "source": []
  }
 ],
 "metadata": {
  "kernelspec": {
   "display_name": "myenv",
   "language": "python",
   "name": "python3"
  },
  "language_info": {
   "codemirror_mode": {
    "name": "ipython",
    "version": 3
   },
   "file_extension": ".py",
   "mimetype": "text/x-python",
   "name": "python",
   "nbconvert_exporter": "python",
   "pygments_lexer": "ipython3",
   "version": "3.11.2"
  },
  "orig_nbformat": 4
 },
 "nbformat": 4,
 "nbformat_minor": 2
}
